{
 "cells": [
  {
   "cell_type": "markdown",
   "metadata": {},
   "source": [
    "<div class=\"alert alert-info\">\n",
    "    <h1>Imports</h1>\n",
    "    </div>"
   ]
  },
  {
   "cell_type": "code",
   "execution_count": 1,
   "metadata": {},
   "outputs": [],
   "source": [
    "import os\n",
    "os.environ[\"CUDA_VISIBLE_DEVICES\"]=\"0\"\n",
    "import cv2\n",
    "import tarfile\n",
    "import numpy as np\n",
    "import pandas as pd\n",
    "from PIL import Image\n",
    "from sklearn.metrics import accuracy_score\n",
    "from sklearn.metrics import precision_recall_fscore_support\n",
    "from collections import OrderedDict\n",
    "import torch\n",
    "import torch.nn as nn\n",
    "from PIL import Image\n",
    "from PIL import ImageFilter\n",
    "from pytorchtools import EarlyStopping\n",
    "import torchvision\n",
    "import torchvision.models as models\n",
    "from torch.nn import functional as F\n",
    "from torch.autograd import Variable\n",
    "from torchvision import transforms as trn\n",
    "from torchvision.transforms import Lambda, ToTensor, Resize, Normalize, RandomCrop, CenterCrop"
   ]
  },
  {
   "cell_type": "markdown",
   "metadata": {},
   "source": [
    "<div class=\"alert alert-info\">\n",
    "    <h1>Load ResNet50 model with pretrained weights on Places365 database</h1>\n",
    "    </div>"
   ]
  },
  {
   "cell_type": "code",
   "execution_count": 2,
   "metadata": {},
   "outputs": [],
   "source": [
    "arch = 'resnet50'\n",
    "model_file = '%s_places365.pth.tar' % arch"
   ]
  },
  {
   "cell_type": "code",
   "execution_count": 3,
   "metadata": {},
   "outputs": [],
   "source": [
    "if not os.access(model_file, os.W_OK):\n",
    "    weight_url = 'http://places2.csail.mit.edu/models_places365/' + model_file\n",
    "    os.system('wget ' + weight_url)"
   ]
  },
  {
   "cell_type": "code",
   "execution_count": 4,
   "metadata": {},
   "outputs": [],
   "source": [
    "model = models.__dict__[arch](num_classes=365)"
   ]
  },
  {
   "cell_type": "code",
   "execution_count": 5,
   "metadata": {},
   "outputs": [],
   "source": [
    "checkpoint = torch.load(model_file, map_location=lambda storage, loc: storage)\n",
    "state_dict = {str.replace(k,'module.',''): v for k,v in checkpoint['state_dict'].items()}\n",
    "model.load_state_dict(state_dict)"
   ]
  },
  {
   "cell_type": "code",
   "execution_count": 6,
   "metadata": {},
   "outputs": [],
   "source": [
    "# for param in model.parameters():\n",
    "#     param.requires_grad = False\n",
    "    \n",
    "model.fc = nn.Sequential(OrderedDict([\n",
    "            ('fc', nn.Linear(2048,67)),\n",
    "            ('output', nn.LogSoftmax(dim=1))\n",
    "]))"
   ]
  },
  {
   "cell_type": "markdown",
   "metadata": {},
   "source": [
    "<div class=\"alert alert-info\">\n",
    "    <h1>Download the target database</h1>\n",
    "    </div>"
   ]
  },
  {
   "cell_type": "code",
   "execution_count": 7,
   "metadata": {},
   "outputs": [],
   "source": [
    "if('indoorCVPR_09.tar' not in os.listdir()):\n",
    "    ! wget http://groups.csail.mit.edu/vision/LabelMe/NewImages/indoorCVPR_09.tar\n",
    "    ! wget http://web.mit.edu/torralba/www/TrainImages.txt\n",
    "    ! wget http://web.mit.edu/torralba/www/TestImages.txt\n",
    "    tar = tarfile.open(\"indoorCVPR_09.tar\", \"r:\")\n",
    "    tar.extractall()\n",
    "    tar.close()"
   ]
  },
  {
   "cell_type": "markdown",
   "metadata": {},
   "source": [
    "<div class=\"alert alert-info\">\n",
    "    <h1>Data preparation and preprocessing</h1>\n",
    "    </div>"
   ]
  },
  {
   "cell_type": "code",
   "execution_count": 8,
   "metadata": {},
   "outputs": [],
   "source": [
    "# create a validation set of size 30*67\n",
    "\n",
    "with open(\"TrainImages.txt\",\"r\") as f:\n",
    "    train_text = f.read().split(\"\\n\")\n",
    "    \n",
    "with open(\"TestImages.txt\",\"r\") as f:\n",
    "    test_text = f.read().split(\"\\n\")\n",
    "    \n",
    "valid_text = []\n",
    "for dire in os.listdir(\"Images/\"):\n",
    "    nb = 0\n",
    "    for img in os.listdir(\"Images/\"+dire):\n",
    "        if(os.path.join(dire,img) not in train_text and os.path.join(dire,img) not in test_text and nb < 30):\n",
    "            valid_text.append(os.path.join(dire,img))\n",
    "            nb +=1"
   ]
  },
  {
   "cell_type": "code",
   "execution_count": 9,
   "metadata": {},
   "outputs": [],
   "source": [
    "dir_name = \"Images\"\n",
    "\n",
    "def create_set(text):\n",
    "\n",
    "    imgs = []\n",
    "    labels = []\n",
    "\n",
    "    for name in text:\n",
    "        img = Image.open(os.path.join(dir_name,name))\n",
    "        if(img.mode != \"RGB\"):\n",
    "            img = img.convert(\"RGB\")\n",
    "        labels.append(name.split(\"/\")[0])\n",
    "        imgs.append(img.copy())\n",
    "        img.close()\n",
    "        \n",
    "    return imgs,labels\n",
    "    \n",
    "train_img,train_label = create_set(train_text)\n",
    "test_img,test_label = create_set(test_text)\n",
    "valid_img,valid_label = create_set(valid_text)"
   ]
  },
  {
   "cell_type": "code",
   "execution_count": 10,
   "metadata": {},
   "outputs": [
    {
     "data": {
      "text/plain": [
       "(5360, 1340, 1506)"
      ]
     },
     "execution_count": 10,
     "metadata": {},
     "output_type": "execute_result"
    }
   ],
   "source": [
    "len(train_img),len(test_img),len(valid_img)"
   ]
  },
  {
   "cell_type": "code",
   "execution_count": 11,
   "metadata": {},
   "outputs": [
    {
     "data": {
      "text/plain": [
       "array(['airport_inside', 'artstudio', 'auditorium', 'bakery', 'bar',\n",
       "       'bathroom', 'bedroom', 'bookstore', 'bowling', 'buffet', 'casino',\n",
       "       'children_room', 'church_inside', 'classroom', 'cloister',\n",
       "       'closet', 'clothingstore', 'computerroom', 'concert_hall',\n",
       "       'corridor', 'deli', 'dentaloffice', 'dining_room', 'elevator',\n",
       "       'fastfood_restaurant', 'florist', 'gameroom', 'garage',\n",
       "       'greenhouse', 'grocerystore', 'gym', 'hairsalon', 'hospitalroom',\n",
       "       'inside_bus', 'inside_subway', 'jewelleryshop', 'kindergarden',\n",
       "       'kitchen', 'laboratorywet', 'laundromat', 'library', 'livingroom',\n",
       "       'lobby', 'locker_room', 'mall', 'meeting_room', 'movietheater',\n",
       "       'museum', 'nursery', 'office', 'operating_room', 'pantry',\n",
       "       'poolinside', 'prisoncell', 'restaurant', 'restaurant_kitchen',\n",
       "       'shoeshop', 'stairscase', 'studiomusic', 'subway', 'toystore',\n",
       "       'trainstation', 'tv_studio', 'videostore', 'waitingroom',\n",
       "       'warehouse', 'winecellar'], dtype='<U19')"
      ]
     },
     "execution_count": 11,
     "metadata": {},
     "output_type": "execute_result"
    }
   ],
   "source": [
    "np.unique(train_label)"
   ]
  },
  {
   "cell_type": "code",
   "execution_count": 12,
   "metadata": {
    "scrolled": true
   },
   "outputs": [
    {
     "data": {
      "text/plain": [
       "(torch.Size([21440, 3, 224, 224]),\n",
       " torch.Size([21440]),\n",
       " torch.Size([1340, 3, 224, 224]),\n",
       " torch.Size([1340]),\n",
       " torch.Size([1506, 3, 224, 224]),\n",
       " torch.Size([1506]))"
      ]
     },
     "execution_count": 12,
     "metadata": {},
     "output_type": "execute_result"
    }
   ],
   "source": [
    "prepare_train = trn.Compose([\n",
    "    Lambda(lambda imgs : [Resize((256,256))(img) for img in imgs]),\n",
    "    Lambda(lambda imgs : [[Resize((224,224))(img), (RandomCrop(224))(img), \\\n",
    "                        Resize((224,224))(img.filter(ImageFilter.GaussianBlur(radius=np.random.normal(0,2.5)))), \\\n",
    "                        Resize((224,224))(img.transpose(Image.FLIP_LEFT_RIGHT))] for img in imgs]),\n",
    "    Lambda(lambda imgs : [ToTensor()(img) for l in imgs for img in l]),\n",
    "    Lambda(lambda imgs : torch.stack([Normalize([0.485, 0.456, 0.406], [0.229, 0.224, 0.225])(img) \\\n",
    "                                          for img in imgs]))\n",
    "])\n",
    "\n",
    "prepare_test = trn.Compose([\n",
    "    Lambda(lambda imgs : [ToTensor()(CenterCrop(224)(img)) for img in imgs]),\n",
    "    Lambda(lambda imgs : torch.stack([Normalize([0.485, 0.456, 0.406], [0.229, 0.224, 0.225])(img) \\\n",
    "                                          for img in imgs]))\n",
    "])\n",
    "\n",
    "label2index = {}\n",
    "\n",
    "for i,label in enumerate(np.unique(train_label)):\n",
    "    label2index[label] = i\n",
    "    \n",
    "tmp = sum([[label]*4 for label in train_label],[])\n",
    "\n",
    "y_train = torch.LongTensor([label2index[label] for label in tmp])\n",
    "\n",
    "X_train = prepare_train(train_img)\n",
    "\n",
    "y_test = torch.LongTensor([label2index[label] for label in test_label])\n",
    "\n",
    "X_test = prepare_test(test_img)\n",
    "\n",
    "y_val = torch.LongTensor([label2index[label] for label in valid_label])\n",
    "\n",
    "X_val = prepare_test(valid_img)\n",
    "\n",
    "X_train.shape,y_train.shape,X_test.shape,y_test.shape,X_val.shape,y_val.shape"
   ]
  },
  {
   "cell_type": "markdown",
   "metadata": {},
   "source": [
    "<div class=\"alert alert-info\">\n",
    "    <h1>Training the model without any regularization</h1>\n",
    "    </div>"
   ]
  },
  {
   "cell_type": "code",
   "execution_count": 13,
   "metadata": {
    "scrolled": true
   },
   "outputs": [],
   "source": [
    "def train(data, model, optimizer,loss_func,checkpoint,patience, batch_size, iterations):\n",
    "    \n",
    "    early_stopping = EarlyStopping(checkpoint,patience)\n",
    "    \n",
    "    X_train,y_train,X_val, y_val = data\n",
    "    \n",
    "    i = 0\n",
    "    j = 0\n",
    "    alpha = 0.5\n",
    "    train_losses = []\n",
    "\n",
    "    valid_losses = []\n",
    "\n",
    "    for e in range(iterations):\n",
    "\n",
    "        model.train()\n",
    "\n",
    "        ypred = model.forward(Variable(X_train[i:i+batch_size].cuda()))\n",
    "\n",
    "        loss = loss_func(ypred, y_train[i:i+batch_size].cuda())\n",
    "\n",
    "        i = (i+batch_size)%X_train.shape[0]\n",
    "\n",
    "        if(e == 6*int(iterations/10)):\n",
    "            for param_group in optimizer.param_groups:\n",
    "                param_group['lr'] /= 10\n",
    "        \n",
    "        \n",
    "        optimizer.zero_grad()\n",
    "        \n",
    "        loss.backward()\n",
    "\n",
    "        optimizer.step()\n",
    "\n",
    "        train_losses.append(loss.item())\n",
    "\n",
    "        model.eval()\n",
    "\n",
    "        ypred_val = model.forward(Variable(X_val[j:j+int(batch_size/4)].cuda()))\n",
    "\n",
    "        loss = loss_func(ypred_val, y_val[j:j+int(batch_size/4)].cuda())\n",
    "\n",
    "        j = (j+int(batch_size/4))%X_val.shape[0]\n",
    "\n",
    "        valid_losses.append(loss.item())\n",
    "\n",
    "        early_stopping(loss.item(), model)\n",
    "\n",
    "        if early_stopping.early_stop:\n",
    "                print(\"Early stopping\")\n",
    "                break\n",
    "\n",
    "        print(\"iteration {}\".format(e))\n",
    "        \n",
    "    model.load_state_dict(torch.load(checkpoint))\n",
    "    \n",
    "    return model, train_losses, valid_losses\n"
   ]
  },
  {
   "cell_type": "code",
   "execution_count": 14,
   "metadata": {
    "scrolled": true
   },
   "outputs": [
    {
     "name": "stdout",
     "output_type": "stream",
     "text": [
      "iteration 0\n",
      "iteration 1\n",
      "iteration 2\n",
      "iteration 3\n",
      "iteration 4\n",
      "iteration 5\n",
      "iteration 6\n",
      "iteration 7\n",
      "iteration 8\n",
      "iteration 9\n",
      "iteration 10\n",
      "iteration 11\n",
      "iteration 12\n",
      "iteration 13\n",
      "iteration 14\n",
      "iteration 15\n",
      "iteration 16\n",
      "iteration 17\n",
      "iteration 18\n",
      "iteration 19\n",
      "iteration 20\n",
      "iteration 21\n",
      "iteration 22\n",
      "iteration 23\n",
      "iteration 24\n",
      "iteration 25\n",
      "iteration 26\n",
      "iteration 27\n",
      "iteration 28\n",
      "iteration 29\n",
      "iteration 30\n",
      "iteration 31\n",
      "iteration 32\n",
      "iteration 33\n",
      "iteration 34\n",
      "iteration 35\n",
      "iteration 36\n",
      "iteration 37\n",
      "iteration 38\n",
      "iteration 39\n",
      "iteration 40\n",
      "iteration 41\n",
      "iteration 42\n",
      "iteration 43\n",
      "iteration 44\n",
      "iteration 45\n",
      "iteration 46\n",
      "iteration 47\n",
      "iteration 48\n",
      "iteration 49\n",
      "iteration 50\n",
      "iteration 51\n",
      "iteration 52\n",
      "iteration 53\n",
      "iteration 54\n",
      "iteration 55\n",
      "iteration 56\n",
      "iteration 57\n",
      "iteration 58\n",
      "iteration 59\n",
      "iteration 60\n",
      "iteration 61\n",
      "iteration 62\n",
      "iteration 63\n",
      "iteration 64\n",
      "iteration 65\n",
      "iteration 66\n",
      "iteration 67\n",
      "iteration 68\n",
      "iteration 69\n",
      "iteration 70\n",
      "iteration 71\n",
      "iteration 72\n",
      "iteration 73\n",
      "iteration 74\n",
      "iteration 75\n",
      "iteration 76\n",
      "iteration 77\n",
      "iteration 78\n",
      "iteration 79\n",
      "iteration 80\n",
      "iteration 81\n",
      "iteration 82\n",
      "iteration 83\n",
      "iteration 84\n",
      "iteration 85\n",
      "iteration 86\n",
      "iteration 87\n",
      "iteration 88\n",
      "iteration 89\n",
      "iteration 90\n",
      "iteration 91\n",
      "iteration 92\n",
      "iteration 93\n",
      "iteration 94\n",
      "iteration 95\n",
      "iteration 96\n",
      "iteration 97\n",
      "iteration 98\n",
      "iteration 99\n",
      "iteration 100\n",
      "iteration 101\n",
      "iteration 102\n",
      "iteration 103\n",
      "iteration 104\n",
      "iteration 105\n",
      "iteration 106\n",
      "iteration 107\n",
      "iteration 108\n",
      "iteration 109\n",
      "iteration 110\n",
      "iteration 111\n",
      "iteration 112\n",
      "iteration 113\n",
      "iteration 114\n",
      "iteration 115\n",
      "iteration 116\n",
      "iteration 117\n",
      "iteration 118\n",
      "iteration 119\n",
      "iteration 120\n",
      "iteration 121\n",
      "iteration 122\n",
      "iteration 123\n",
      "iteration 124\n",
      "iteration 125\n",
      "iteration 126\n",
      "iteration 127\n",
      "iteration 128\n",
      "iteration 129\n",
      "iteration 130\n",
      "iteration 131\n",
      "iteration 132\n",
      "iteration 133\n",
      "iteration 134\n",
      "iteration 135\n",
      "iteration 136\n",
      "iteration 137\n",
      "iteration 138\n",
      "iteration 139\n",
      "iteration 140\n",
      "iteration 141\n",
      "iteration 142\n",
      "iteration 143\n",
      "iteration 144\n",
      "iteration 145\n",
      "iteration 146\n",
      "iteration 147\n",
      "iteration 148\n",
      "iteration 149\n",
      "iteration 150\n",
      "iteration 151\n",
      "iteration 152\n",
      "iteration 153\n",
      "iteration 154\n",
      "iteration 155\n",
      "iteration 156\n",
      "iteration 157\n",
      "iteration 158\n",
      "iteration 159\n",
      "iteration 160\n",
      "iteration 161\n",
      "iteration 162\n",
      "iteration 163\n",
      "iteration 164\n",
      "iteration 165\n",
      "iteration 166\n",
      "iteration 167\n",
      "iteration 168\n",
      "iteration 169\n",
      "iteration 170\n",
      "iteration 171\n",
      "iteration 172\n",
      "iteration 173\n",
      "iteration 174\n",
      "iteration 175\n",
      "iteration 176\n",
      "iteration 177\n",
      "iteration 178\n",
      "iteration 179\n",
      "iteration 180\n",
      "iteration 181\n",
      "iteration 182\n",
      "iteration 183\n",
      "iteration 184\n",
      "iteration 185\n",
      "iteration 186\n",
      "iteration 187\n",
      "iteration 188\n",
      "iteration 189\n",
      "iteration 190\n",
      "Early stopping\n"
     ]
    }
   ],
   "source": [
    "idx = np.arange(X_train.shape[0])\n",
    "np.random.shuffle(idx)\n",
    "\n",
    "X_train = X_train[idx]\n",
    "y_train = y_train[idx]\n",
    "\n",
    "idx = np.arange(X_val.shape[0])\n",
    "np.random.shuffle(idx)\n",
    "\n",
    "X_val = X_val[idx]\n",
    "y_val = y_val[idx]\n",
    "\n",
    "data = (X_train,y_train,X_val, y_val)\n",
    "\n",
    "optimizer = torch.optim.SGD(model.parameters(), lr=0.01, momentum=0.9)\n",
    "loss_func = nn.CrossEntropyLoss()\n",
    "model, train_loss, valid_loss = train(data, model.cuda(), optimizer, loss_func,\"checkpoint_l2.pt\",50, 64, 1000)"
   ]
  },
  {
   "cell_type": "code",
   "execution_count": 15,
   "metadata": {},
   "outputs": [],
   "source": [
    "ypred = []\n",
    "\n",
    "\n",
    "model.eval()\n",
    "i = 0\n",
    "batch_size = 8\n",
    "# model.cuda()\n",
    "with torch.no_grad():\n",
    "    \n",
    "    for e in range(int(X_test.shape[0]/batch_size)+1):\n",
    "        ypred.append(model.forward(Variable(X_test[i:i+batch_size]).cuda()))\n",
    "        i+=batch_size\n",
    "# ypred = torch.stack([torch.squeeze(pred) for pred in ypred])\n",
    "# model.cpu()\n",
    "# ypred = model.forward(X_test)"
   ]
  },
  {
   "cell_type": "code",
   "execution_count": 16,
   "metadata": {},
   "outputs": [
    {
     "data": {
      "text/plain": [
       "(torch.Size([1340, 67]), torch.Size([1340]))"
      ]
     },
     "execution_count": 16,
     "metadata": {},
     "output_type": "execute_result"
    }
   ],
   "source": [
    "pred = torch.stack([p for pred in ypred for p in pred])\n",
    "pred.shape, y_test.shape"
   ]
  },
  {
   "cell_type": "code",
   "execution_count": 19,
   "metadata": {},
   "outputs": [
    {
     "data": {
      "text/plain": [
       "tensor([[-6.8969, -5.4509, -6.1449,  ..., -6.7095, -4.2315, -4.3430],\n",
       "        [-4.6549, -5.9014, -6.6046,  ..., -6.6682, -3.6430, -7.9715],\n",
       "        [-4.9996, -4.7560, -5.1042,  ..., -6.8029, -5.3830, -3.8039],\n",
       "        ...,\n",
       "        [-5.0291, -4.5958, -3.7950,  ..., -5.9035, -4.3918, -4.7202],\n",
       "        [-7.1017, -9.2880, -8.3136,  ..., -9.2236, -7.5891, -5.3631],\n",
       "        [-7.5357, -3.1092, -7.8123,  ..., -6.8731, -4.3968, -5.0764]],\n",
       "       device='cuda:0')"
      ]
     },
     "execution_count": 19,
     "metadata": {},
     "output_type": "execute_result"
    }
   ],
   "source": [
    "pred"
   ]
  },
  {
   "cell_type": "code",
   "execution_count": 17,
   "metadata": {},
   "outputs": [
    {
     "name": "stdout",
     "output_type": "stream",
     "text": [
      "accuracy is 69.40%.\n"
     ]
    }
   ],
   "source": [
    "print(\"accuracy is {0:.2f}%.\".format(accuracy_score(y_test.data, torch.max(pred.data, 1)[1])*100))"
   ]
  },
  {
   "cell_type": "code",
   "execution_count": 18,
   "metadata": {},
   "outputs": [
    {
     "name": "stdout",
     "output_type": "stream",
     "text": [
      "precision: 73.07%\n",
      "recall: 73.07%\n",
      "f1 score: 73.07%\n"
     ]
    }
   ],
   "source": [
    "prec,rec,f1,_ = precision_recall_fscore_support(y_test.data, torch.max(pred.data, 1)[1], average=\"macro\")\n",
    "print(\"precision: {0:.2f}%\\nrecall: {0:.2f}%\\nf1 score: {0:.2f}%\".format(prec*100,rec*100,f1*100))"
   ]
  }
 ],
 "metadata": {
  "kernelspec": {
   "display_name": "Python 3",
   "language": "python",
   "name": "python3"
  },
  "language_info": {
   "codemirror_mode": {
    "name": "ipython",
    "version": 3
   },
   "file_extension": ".py",
   "mimetype": "text/x-python",
   "name": "python",
   "nbconvert_exporter": "python",
   "pygments_lexer": "ipython3",
   "version": "3.6.0"
  }
 },
 "nbformat": 4,
 "nbformat_minor": 2
}
